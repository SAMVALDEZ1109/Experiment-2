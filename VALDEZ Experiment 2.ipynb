{
 "cells": [
  {
   "cell_type": "markdown",
   "id": "9398076c-d004-46d8-8b59-028b0d159bf7",
   "metadata": {},
   "source": [
    "###EXPERIMENT 2 : Numerical Python"
   ]
  },
  {
   "cell_type": "markdown",
   "id": "02f20461-6d7d-482d-aa39-35033489db7a",
   "metadata": {},
   "source": [
    "##NORMALIZATION PROBLEM : Create a random 5 x 5 ndarray"
   ]
  },
  {
   "cell_type": "code",
   "execution_count": 6,
   "id": "3c300893-bac1-4c72-9e68-70c2b3070b5f",
   "metadata": {},
   "outputs": [],
   "source": [
    "import numpy as np"
   ]
  },
  {
   "cell_type": "code",
   "execution_count": 34,
   "id": "d962da80-7075-475a-be65-ded6a1b41ed9",
   "metadata": {},
   "outputs": [
    {
     "name": "stdout",
     "output_type": "stream",
     "text": [
      "Original Array (X):\n",
      " [[0.48242637 0.01899672 0.27035104 0.68740754 0.46035445]\n",
      " [0.85278891 0.87202177 0.73196376 0.87433232 0.5401713 ]\n",
      " [0.71208084 0.12668069 0.5115928  0.82446044 0.90178258]\n",
      " [0.16487145 0.34914121 0.38636166 0.28939231 0.38894661]\n",
      " [0.33788983 0.26176371 0.46271184 0.45388911 0.31734151]]\n",
      "\n",
      "Normalized Array (X_normalized):\n",
      " [[-0.03515303 -1.89432786 -0.88595122  0.78718505 -0.12370055]\n",
      " [ 1.45065765  1.52781554  0.96593452  1.53708493  0.19650658]\n",
      " [ 0.88616874 -1.46232413  0.0818561   1.33701026  1.64720916]\n",
      " [-1.30911145 -0.5698629  -0.42054288 -0.80956197 -0.41017266]\n",
      " [-0.6150009  -0.92040164 -0.11424323 -0.14963802 -0.69743608]]\n"
     ]
    }
   ],
   "source": [
    "#creating a random 5x5 ndarray\n",
    "X = np.random.rand(5,5)\n",
    "\n",
    "#original array\n",
    "print (\"Original Array (X):\\n\", X)\n",
    "\n",
    "#.mean and .std calls\n",
    "mean_X = X.mean()\n",
    "std_X = X.std()\n",
    "\n",
    "#normalization expression\n",
    "X_normalized = (X- mean_X) / std_X\n",
    "\n",
    "#normalize the array\n",
    "print(\"\\nNormalized Array (X_normalized):\\n\", X_normalized)\n",
    "\n",
    "#save noramlized ndarray as npy\n",
    "np.save('X_normalized.npy', X_normalized)\n"
   ]
  },
  {
   "cell_type": "markdown",
   "id": "0d325e0d-0556-4f4b-89c2-a03ee6fe04b4",
   "metadata": {},
   "source": [
    "##DIVISIBLE BY 3 PROBLEM : Create a 10x10 ndarray"
   ]
  },
  {
   "cell_type": "code",
   "execution_count": 11,
   "id": "741fab2b-88e4-4b2a-928e-ff1baf86a933",
   "metadata": {},
   "outputs": [
    {
     "name": "stdout",
     "output_type": "stream",
     "text": [
      "10 x 10 Array (A):\n",
      " [[    1     4     9    16    25    36    49    64    81   100]\n",
      " [  121   144   169   196   225   256   289   324   361   400]\n",
      " [  441   484   529   576   625   676   729   784   841   900]\n",
      " [  961  1024  1089  1156  1225  1296  1369  1444  1521  1600]\n",
      " [ 1681  1764  1849  1936  2025  2116  2209  2304  2401  2500]\n",
      " [ 2601  2704  2809  2916  3025  3136  3249  3364  3481  3600]\n",
      " [ 3721  3844  3969  4096  4225  4356  4489  4624  4761  4900]\n",
      " [ 5041  5184  5329  5476  5625  5776  5929  6084  6241  6400]\n",
      " [ 6561  6724  6889  7056  7225  7396  7569  7744  7921  8100]\n",
      " [ 8281  8464  8649  8836  9025  9216  9409  9604  9801 10000]]\n",
      "\n",
      "Elements divisible by 3 (div_by_3):\n",
      " [   9   36   81  144  225  324  441  576  729  900 1089 1296 1521 1764\n",
      " 2025 2304 2601 2916 3249 3600 3969 4356 4761 5184 5625 6084 6561 7056\n",
      " 7569 8100 8649 9216 9801]\n"
     ]
    }
   ],
   "source": [
    "import numpy as np\n",
    "\n",
    "#creating a 10x10 ndarray with squares of first 100 positive integers\n",
    "A = np.arange (1, 101)**2\n",
    "\n",
    "#reshaping array into 10x10\n",
    "A = A.reshape ((10,10))\n",
    "\n",
    "#original 10x10 array\n",
    "print (\"10 x 10 Array (A):\\n\", A)\n",
    "\n",
    "#finding elements divisible by 3\n",
    "div_by_3 = A[A % 3 == 0]\n",
    "\n",
    "#elements divisible by 3\n",
    "print (\"\\nElements divisible by 3 (div_by_3):\\n\", div_by_3)\n",
    "\n",
    "#saving elements into npy file\n",
    "np.save('div_by_3.npy', div_by_3)"
   ]
  }
 ],
 "metadata": {
  "kernelspec": {
   "display_name": "Python 3 (ipykernel)",
   "language": "python",
   "name": "python3"
  },
  "language_info": {
   "codemirror_mode": {
    "name": "ipython",
    "version": 3
   },
   "file_extension": ".py",
   "mimetype": "text/x-python",
   "name": "python",
   "nbconvert_exporter": "python",
   "pygments_lexer": "ipython3",
   "version": "3.12.4"
  }
 },
 "nbformat": 4,
 "nbformat_minor": 5
}
